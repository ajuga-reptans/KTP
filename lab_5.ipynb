{
 "cells": [
  {
   "cell_type": "markdown",
   "id": "44d153d3",
   "metadata": {},
   "source": [
    "# Лабораторная работа 5 \n",
    "\n",
    "# Выполнил студент группы БСТ2001 Бессолицын А.Д.\n",
    "\n",
    "# «Рекурсия. Фракталы.»\n",
    "\n",
    "## Вариант 5 \n",
    "\n",
    "## Ковер Серпинского "
   ]
  },
  {
   "cell_type": "code",
   "execution_count": 5,
   "id": "976f3bc0",
   "metadata": {},
   "outputs": [
    {
     "ename": "Terminator",
     "evalue": "",
     "output_type": "error",
     "traceback": [
      "\u001b[1;31m---------------------------------------------------------------------------\u001b[0m",
      "\u001b[1;31mTerminator\u001b[0m                                Traceback (most recent call last)",
      "\u001b[1;32m~\\AppData\\Local\\Temp/ipykernel_3208/2847222792.py\u001b[0m in \u001b[0;36m<module>\u001b[1;34m\u001b[0m\n\u001b[0;32m     23\u001b[0m \u001b[1;33m\u001b[0m\u001b[0m\n\u001b[0;32m     24\u001b[0m \u001b[1;33m\u001b[0m\u001b[0m\n\u001b[1;32m---> 25\u001b[1;33m \u001b[0mturtle\u001b[0m\u001b[1;33m.\u001b[0m\u001b[0mtracer\u001b[0m\u001b[1;33m(\u001b[0m\u001b[1;36m10\u001b[0m\u001b[1;33m)\u001b[0m\u001b[1;33m\u001b[0m\u001b[1;33m\u001b[0m\u001b[0m\n\u001b[0m\u001b[0;32m     26\u001b[0m \u001b[0ms\u001b[0m\u001b[1;33m(\u001b[0m\u001b[1;36m4\u001b[0m\u001b[1;33m,\u001b[0m \u001b[1;36m400\u001b[0m\u001b[1;33m)\u001b[0m\u001b[1;33m\u001b[0m\u001b[1;33m\u001b[0m\u001b[0m\n\u001b[0;32m     27\u001b[0m \u001b[0mturtle\u001b[0m\u001b[1;33m.\u001b[0m\u001b[0mdone\u001b[0m\u001b[1;33m(\u001b[0m\u001b[1;33m)\u001b[0m\u001b[1;33m\u001b[0m\u001b[1;33m\u001b[0m\u001b[0m\n",
      "\u001b[1;32m~\\anaconda3\\lib\\turtle.py\u001b[0m in \u001b[0;36mtracer\u001b[1;34m(n, delay)\u001b[0m\n",
      "\u001b[1;31mTerminator\u001b[0m: "
     ]
    }
   ],
   "source": [
    "import turtle\n",
    " \n",
    " \n",
    "def s(n, m):\n",
    "    if n == 0:\n",
    "        turtle.color('black')\n",
    "        turtle.begin_fill()\n",
    "        for _ in range(4):\n",
    "            turtle.forward(m)\n",
    "            turtle.left(90)\n",
    "        turtle.end_fill()\n",
    " \n",
    "    else:\n",
    "        for _ in range(4):\n",
    "            s(n - 1, m / 3)\n",
    "            turtle.forward(m / 3)\n",
    " \n",
    "            s(n - 1, m / 3)\n",
    "            turtle.forward(m / 3)\n",
    " \n",
    "            turtle.forward(m / 3)\n",
    "            turtle.left(90)\n",
    " \n",
    " \n",
    "turtle.tracer(10)\n",
    "s(4, 400)\n",
    "turtle.done()\n"
   ]
  },
  {
   "cell_type": "code",
   "execution_count": 4,
   "id": "e1507ea9",
   "metadata": {},
   "outputs": [],
   "source": [
    "# importing necessary modules\n",
    "import numpy as np\n",
    "from PIL import Image\n",
    "\n",
    "# total number of times the process will be repeated\n",
    "total = 7\n",
    "\n",
    "# size of the image\n",
    "size = 3**total\n",
    "\n",
    "# creating an image\n",
    "square = np.empty([size, size, 3], dtype = np.uint8)\n",
    "color = np.array([255, 255, 255], dtype = np.uint8)\n",
    "\n",
    "# filling it black\n",
    "square.fill(0)\n",
    "\n",
    "for i in range(0, total + 1):\n",
    "\tstepdown = 3**(total - i)\n",
    "\tfor x in range(0, 3**i):\n",
    "\t\t\n",
    "\t\t# checking for the centremost square\n",
    "\t\tif x % 3 == 1:\n",
    "\t\t\tfor y in range(0, 3**i):\n",
    "\t\t\t\tif y % 3 == 1:\n",
    "\t\t\t\t\t\n",
    "\t\t\t\t\t# changing its color\n",
    "\t\t\t\t\tsquare[y * stepdown:(y + 1)*stepdown, x * stepdown:(x + 1)*stepdown] = color\n",
    "\n",
    "# saving the image produced\n",
    "save_file = \"sierpinski.jpg\"\n",
    "Image.fromarray(square).save(save_file)\n",
    "\n",
    "# displaying it in console\n",
    "i = Image.open(\"sierpinski.jpg\")\n",
    "i.show()\n"
   ]
  },
  {
   "cell_type": "code",
   "execution_count": null,
   "id": "e4f99813",
   "metadata": {},
   "outputs": [],
   "source": []
  }
 ],
 "metadata": {
  "kernelspec": {
   "display_name": "Python 3 (ipykernel)",
   "language": "python",
   "name": "python3"
  },
  "language_info": {
   "codemirror_mode": {
    "name": "ipython",
    "version": 3
   },
   "file_extension": ".py",
   "mimetype": "text/x-python",
   "name": "python",
   "nbconvert_exporter": "python",
   "pygments_lexer": "ipython3",
   "version": "3.9.7"
  }
 },
 "nbformat": 4,
 "nbformat_minor": 5
}
